{
 "cells": [
  {
   "cell_type": "markdown",
   "metadata": {
    "slideshow": {
     "slide_type": "slide"
    }
   },
   "source": [
    "# Jupyter, Packages und weiterführende Ressourcen"
   ]
  },
  {
   "cell_type": "markdown",
   "metadata": {
    "slideshow": {
     "slide_type": "slide"
    }
   },
   "source": [
    "## Jupyter Notebook Magic\n",
    "- https://ipython.readthedocs.io/en/stable/interactive/magics.html\n",
    "- Oder %quickref"
   ]
  },
  {
   "cell_type": "code",
   "execution_count": 1,
   "metadata": {
    "ExecuteTime": {
     "end_time": "2020-05-07T10:24:53.067747Z",
     "start_time": "2020-05-07T10:24:53.064124Z"
    }
   },
   "outputs": [],
   "source": [
    "%quickref"
   ]
  },
  {
   "cell_type": "markdown",
   "metadata": {
    "slideshow": {
     "slide_type": "subslide"
    }
   },
   "source": [
    "### %time, %timeit, %%time, %%timeit\n",
    "- time einfache Ausführungszeit\n",
    "- timeit gemittelte Ausführungszeit\n",
    "- %time(it) einzelner Befehl\n",
    "- %%time(it) ganze Jupyter Zelle"
   ]
  },
  {
   "cell_type": "code",
   "execution_count": 2,
   "metadata": {
    "ExecuteTime": {
     "end_time": "2020-05-07T10:25:07.506545Z",
     "start_time": "2020-05-07T10:24:53.069655Z"
    },
    "slideshow": {
     "slide_type": "-"
    }
   },
   "outputs": [
    {
     "name": "stdout",
     "output_type": "stream",
     "text": [
      "CPU times: user 1.81 ms, sys: 156 µs, total: 1.96 ms\n",
      "Wall time: 2.13 ms\n",
      "1.76 ms ± 81 µs per loop (mean ± std. dev. of 7 runs, 1000 loops each)\n"
     ]
    }
   ],
   "source": [
    "%time sum(range(100000))\n",
    "%timeit sum(range(100000))"
   ]
  },
  {
   "cell_type": "code",
   "execution_count": 3,
   "metadata": {
    "ExecuteTime": {
     "end_time": "2020-05-07T10:25:07.513693Z",
     "start_time": "2020-05-07T10:25:07.507951Z"
    },
    "slideshow": {
     "slide_type": "-"
    }
   },
   "outputs": [
    {
     "name": "stdout",
     "output_type": "stream",
     "text": [
      "CPU times: user 2.59 ms, sys: 5 µs, total: 2.59 ms\n",
      "Wall time: 2.6 ms\n"
     ]
    }
   ],
   "source": [
    "%%time\n",
    "a = list(range(10000))\n",
    "b = sum(v ** 2 for v in a)\n",
    "c = b ** 0.5"
   ]
  },
  {
   "cell_type": "code",
   "execution_count": 4,
   "metadata": {
    "ExecuteTime": {
     "end_time": "2020-05-07T10:25:09.652349Z",
     "start_time": "2020-05-07T10:25:07.514889Z"
    },
    "slideshow": {
     "slide_type": "-"
    }
   },
   "outputs": [
    {
     "name": "stdout",
     "output_type": "stream",
     "text": [
      "2.54 ms ± 25.8 µs per loop (mean ± std. dev. of 7 runs, 100 loops each)\n"
     ]
    }
   ],
   "source": [
    "%%timeit\n",
    "a = list(range(10000))\n",
    "b = sum(v ** 2 for v in a)\n",
    "c = b ** 0.5"
   ]
  },
  {
   "cell_type": "markdown",
   "metadata": {
    "slideshow": {
     "slide_type": "subslide"
    }
   },
   "source": [
    "### %matplotlib\n",
    "* %matplotlib inline/notebook/widget/..."
   ]
  },
  {
   "cell_type": "code",
   "execution_count": 5,
   "metadata": {
    "ExecuteTime": {
     "end_time": "2020-05-07T10:25:09.902583Z",
     "start_time": "2020-05-07T10:25:09.654104Z"
    },
    "slideshow": {
     "slide_type": "-"
    }
   },
   "outputs": [],
   "source": [
    "import matplotlib.pyplot as plt"
   ]
  },
  {
   "cell_type": "code",
   "execution_count": 6,
   "metadata": {
    "ExecuteTime": {
     "end_time": "2020-05-07T10:25:10.101168Z",
     "start_time": "2020-05-07T10:25:09.904144Z"
    },
    "slideshow": {
     "slide_type": "-"
    }
   },
   "outputs": [
    {
     "data": {
      "image/png": "[encoded data removed]",
      "text/plain": [
       "<Figure size 432x288 with 1 Axes>"
      ]
     },
     "metadata": {
      "needs_background": "light"
     },
     "output_type": "display_data"
    }
   ],
   "source": [
    "%matplotlib inline\n",
    "plt.plot([0, 1], [-1, 0])\n",
    "plt.show()"
   ]
  },
  {
   "cell_type": "code",
   "execution_count": 27,
   "metadata": {
    "ExecuteTime": {
     "end_time": "2020-05-07T10:25:28.677016Z",
     "start_time": "2020-05-07T10:25:28.641799Z"
    },
    "slideshow": {
     "slide_type": "-"
    }
   },
   "outputs": [
    {
     "data": {
      "application/javascript": [
       "/* Put everything inside the global mpl namespace */\n",
       "window.mpl = {};\n",
       "\n",
       "\n",
       "mpl.get_websocket_type = function() {\n",
       "    if (typeof(WebSocket) !== 'undefined') {\n",
       "        return WebSocket;\n",
       "    } else if (typeof(MozWebSocket) !== 'undefined') {\n",
       "        return MozWebSocket;\n",
       "    } else {\n",
       "        alert('Your browser does not have WebSocket support. ' +\n",
       "              'Please try Chrome, Safari or Firefox ≥ 6. ' +\n",
       "              'Firefox 4 and 5 are also supported but you ' +\n",
       "              'have to enable WebSockets in about:config.');\n",
       "    };\n",
       "}\n",
       "\n",
       "mpl.figure = function(figure_id, websocket, ondownload, parent_element) {\n",
       "    this.id = figure_id;\n",
       "\n",
       "    this.ws = websocket;\n",
       "\n",
       "    this.supports_binary = (this.ws.binaryType != undefined);\n",
       "\n",
       "    if (!this.supports_binary) {\n",
       "        var warnings = document.getElementById(\"mpl-warnings\");\n",
       "        if (warnings) {\n",
       "            warnings.style.display = 'block';\n",
       "            warnings.textContent = (\n",
       "                \"This browser does not support binary websocket messages. \" +\n",
       "                    \"Performance may be slow.\");\n",
       "        }\n",
       "    }\n",
       "\n",
       "    this.imageObj = new Image();\n",
       "\n",
       "    this.context = undefined;\n",
       "    this.message = undefined;\n",
       "    this.canvas = undefined;\n",
       "    this.rubberband_canvas = undefined;\n",
       "    this.rubberband_context = undefined;\n",
       "    this.format_dropdown = undefined;\n",
       "\n",
       "    this.image_mode = 'full';\n",
       "\n",
       "    this.root = $('<div/>');\n",
       "    this._root_extra_style(this.root)\n",
       "    this.root.attr('style', 'display: inline-block');\n",
       "\n",
       "    $(parent_element).append(this.root);\n",
       "\n",
       "    this._init_header(this);\n",
       "    this._init_canvas(this);\n",
       "    this._init_toolbar(this);\n",
       "\n",
       "    var fig = this;\n",
       "\n",
       "    this.waiting = false;\n",
       "\n",
       "    this.ws.onopen =  function () {\n",
       "            fig.send_message(\"supports_binary\", {value: fig.supports_binary});\n",
       "            fig.send_message(\"send_image_mode\", {});\n",
       "            if (mpl.ratio != 1) {\n",
       "                fig.send_message(\"set_dpi_ratio\", {'dpi_ratio': mpl.ratio});\n",
       "            }\n",
       "            fig.send_message(\"refresh\", {});\n",
       "        }\n",
       "\n",
       "    this.imageObj.onload = function() {\n",
       "            if (fig.image_mode == 'full') {\n",
       "                // Full images could contain transparency (where diff images\n",
       "                // almost always do), so we need to clear the canvas so that\n",
       "                // there is no ghosting.\n",
       "                fig.context.clearRect(0, 0, fig.canvas.width, fig.canvas.height);\n",
       "            }\n",
       "            fig.context.drawImage(fig.imageObj, 0, 0);\n",
       "        };\n",
       "\n",
       "    this.imageObj.onunload = function() {\n",
       "        fig.ws.close();\n",
       "    }\n",
       "\n",
       "    this.ws.onmessage = this._make_on_message_function(this);\n",
       "\n",
       "    this.ondownload = ondownload;\n",
       "}\n",
       "\n",
       "mpl.figure.prototype._init_header = function() {\n",
       "    var titlebar = $(\n",
       "        '<div class=\"ui-dialog-titlebar ui-widget-header ui-corner-all ' +\n",
       "        'ui-helper-clearfix\"/>');\n",
       "    var titletext = $(\n",
       "        '<div class=\"ui-dialog-title\" style=\"width: 100%; ' +\n",
       "        'text-align: center; padding: 3px;\"/>');\n",
       "    titlebar.append(titletext)\n",
       "    this.root.append(titlebar);\n",
       "    this.header = titletext[0];\n",
       "}\n",
       "\n",
       "\n",
       "\n",
       "mpl.figure.prototype._canvas_extra_style = function(canvas_div) {\n",
       "\n",
       "}\n",
       "\n",
       "\n",
       "mpl.figure.prototype._root_extra_style = function(canvas_div) {\n",
       "\n",
       "}\n",
       "\n",
       "mpl.figure.prototype._init_canvas = function() {\n",
       "    var fig = this;\n",
       "\n",
       "    var canvas_div = $('<div/>');\n",
       "\n",
       "    canvas_div.attr('style', 'position: relative; clear: both; outline: 0');\n",
       "\n",
       "    function canvas_keyboard_event(event) {\n",
       "        return fig.key_event(event, event['data']);\n",
       "    }\n",
       "\n",
       "    canvas_div.keydown('key_press', canvas_keyboard_event);\n",
       "    canvas_div.keyup('key_release', canvas_keyboard_event);\n",
       "    this.canvas_div = canvas_div\n",
       "    this._canvas_extra_style(canvas_div)\n",
       "    this.root.append(canvas_div);\n",
       "\n",
       "    var canvas = $('<canvas/>');\n",
       "    canvas.addClass('mpl-canvas');\n",
       "    canvas.attr('style', \"left: 0; top: 0; z-index: 0; outline: 0\")\n",
       "\n",
       "    this.canvas = canvas[0];\n",
       "    this.context = canvas[0].getContext(\"2d\");\n",
       "\n",
       "    var backingStore = this.context.backingStorePixelRatio ||\n",
       "\tthis.context.webkitBackingStorePixelRatio ||\n",
       "\tthis.context.mozBackingStorePixelRatio ||\n",
       "\tthis.context.msBackingStorePixelRatio ||\n",
       "\tthis.context.oBackingStorePixelRatio ||\n",
       "\tthis.context.backingStorePixelRatio || 1;\n",
       "\n",
       "    mpl.ratio = (window.devicePixelRatio || 1) / backingStore;\n",
       "\n",
       "    var rubberband = $('<canvas/>');\n",
       "    rubberband.attr('style', \"position: absolute; left: 0; top: 0; z-index: 1;\")\n",
       "\n",
       "    var pass_mouse_events = true;\n",
       "\n",
       "    canvas_div.resizable({\n",
       "        start: function(event, ui) {\n",
       "            pass_mouse_events = false;\n",
       "        },\n",
       "        resize: function(event, ui) {\n",
       "            fig.request_resize(ui.size.width, ui.size.height);\n",
       "        },\n",
       "        stop: function(event, ui) {\n",
       "            pass_mouse_events = true;\n",
       "            fig.request_resize(ui.size.width, ui.size.height);\n",
       "        },\n",
       "    });\n",
       "\n",
       "    function mouse_event_fn(event) {\n",
       "        if (pass_mouse_events)\n",
       "            return fig.mouse_event(event, event['data']);\n",
       "    }\n",
       "\n",
       "    rubberband.mousedown('button_press', mouse_event_fn);\n",
       "    rubberband.mouseup('button_release', mouse_event_fn);\n",
       "    // Throttle sequential mouse events to 1 every 20ms.\n",
       "    rubberband.mousemove('motion_notify', mouse_event_fn);\n",
       "\n",
       "    rubberband.mouseenter('figure_enter', mouse_event_fn);\n",
       "    rubberband.mouseleave('figure_leave', mouse_event_fn);\n",
       "\n",
       "    canvas_div.on(\"wheel\", function (event) {\n",
       "        event = event.originalEvent;\n",
       "        event['data'] = 'scroll'\n",
       "        if (event.deltaY < 0) {\n",
       "            event.step = 1;\n",
       "        } else {\n",
       "            event.step = -1;\n",
       "        }\n",
       "        mouse_event_fn(event);\n",
       "    });\n",
       "\n",
       "    canvas_div.append(canvas);\n",
       "    canvas_div.append(rubberband);\n",
       "\n",
       "    this.rubberband = rubberband;\n",
       "    this.rubberband_canvas = rubberband[0];\n",
       "    this.rubberband_context = rubberband[0].getContext(\"2d\");\n",
       "    this.rubberband_context.strokeStyle = \"#000000\";\n",
       "\n",
       "    this._resize_canvas = function(width, height) {\n",
       "        // Keep the size of the canvas, canvas container, and rubber band\n",
       "        // canvas in synch.\n",
       "        canvas_div.css('width', width)\n",
       "        canvas_div.css('height', height)\n",
       "\n",
       "        canvas.attr('width', width * mpl.ratio);\n",
       "        canvas.attr('height', height * mpl.ratio);\n",
       "        canvas.attr('style', 'width: ' + width + 'px; height: ' + height + 'px;');\n",
       "\n",
       "        rubberband.attr('width', width);\n",
       "        rubberband.attr('height', height);\n",
       "    }\n",
       "\n",
       "    // Set the figure to an initial 600x600px, this will subsequently be updated\n",
       "    // upon first draw.\n",
       "    this._resize_canvas(600, 600);\n",
       "\n",
       "    // Disable right mouse context menu.\n",
       "    $(this.rubberband_canvas).bind(\"contextmenu\",function(e){\n",
       "        return false;\n",
       "    });\n",
       "\n",
       "    function set_focus () {\n",
       "        canvas.focus();\n",
       "        canvas_div.focus();\n",
       "    }\n",
       "\n",
       "    window.setTimeout(set_focus, 100);\n",
       "}\n",
       "\n",
       "mpl.figure.prototype._init_toolbar = function() {\n",
       "    var fig = this;\n",
       "\n",
       "    var nav_element = $('<div/>');\n",
       "    nav_element.attr('style', 'width: 100%');\n",
       "    this.root.append(nav_element);\n",
       "\n",
       "    // Define a callback function for later on.\n",
       "    function toolbar_event(event) {\n",
       "        return fig.toolbar_button_onclick(event['data']);\n",
       "    }\n",
       "    function toolbar_mouse_event(event) {\n",
       "        return fig.toolbar_button_onmouseover(event['data']);\n",
       "    }\n",
       "\n",
       "    for(var toolbar_ind in mpl.toolbar_items) {\n",
       "        var name = mpl.toolbar_items[toolbar_ind][0];\n",
       "        var tooltip = mpl.toolbar_items[toolbar_ind][1];\n",
       "        var image = mpl.toolbar_items[toolbar_ind][2];\n",
       "        var method_name = mpl.toolbar_items[toolbar_ind][3];\n",
       "\n",
       "        if (!name) {\n",
       "            // put a spacer in here.\n",
       "            continue;\n",
       "        }\n",
       "        var button = $('<button/>');\n",
       "        button.addClass('ui-button ui-widget ui-state-default ui-corner-all ' +\n",
       "                        'ui-button-icon-only');\n",
       "        button.attr('role', 'button');\n",
       "        button.attr('aria-disabled', 'false');\n",
       "        button.click(method_name, toolbar_event);\n",
       "        button.mouseover(tooltip, toolbar_mouse_event);\n",
       "\n",
       "        var icon_img = $('<span/>');\n",
       "        icon_img.addClass('ui-button-icon-primary ui-icon');\n",
       "        icon_img.addClass(image);\n",
       "        icon_img.addClass('ui-corner-all');\n",
       "\n",
       "        var tooltip_span = $('<span/>');\n",
       "        tooltip_span.addClass('ui-button-text');\n",
       "        tooltip_span.html(tooltip);\n",
       "\n",
       "        button.append(icon_img);\n",
       "        button.append(tooltip_span);\n",
       "\n",
       "        nav_element.append(button);\n",
       "    }\n",
       "\n",
       "    var fmt_picker_span = $('<span/>');\n",
       "\n",
       "    var fmt_picker = $('<select/>');\n",
       "    fmt_picker.addClass('mpl-toolbar-option ui-widget ui-widget-content');\n",
       "    fmt_picker_span.append(fmt_picker);\n",
       "    nav_element.append(fmt_picker_span);\n",
       "    this.format_dropdown = fmt_picker[0];\n",
       "\n",
       "    for (var ind in mpl.extensions) {\n",
       "        var fmt = mpl.extensions[ind];\n",
       "        var option = $(\n",
       "            '<option/>', {selected: fmt === mpl.default_extension}).html(fmt);\n",
       "        fmt_picker.append(option);\n",
       "    }\n",
       "\n",
       "    // Add hover states to the ui-buttons\n",
       "    $( \".ui-button\" ).hover(\n",
       "        function() { $(this).addClass(\"ui-state-hover\");},\n",
       "        function() { $(this).removeClass(\"ui-state-hover\");}\n",
       "    );\n",
       "\n",
       "    var status_bar = $('<span class=\"mpl-message\"/>');\n",
       "    nav_element.append(status_bar);\n",
       "    this.message = status_bar[0];\n",
       "}\n",
       "\n",
       "mpl.figure.prototype.request_resize = function(x_pixels, y_pixels) {\n",
       "    // Request matplotlib to resize the figure. Matplotlib will then trigger a resize in the client,\n",
       "    // which will in turn request a refresh of the image.\n",
       "    this.send_message('resize', {'width': x_pixels, 'height': y_pixels});\n",
       "}\n",
       "\n",
       "mpl.figure.prototype.send_message = function(type, properties) {\n",
       "    properties['type'] = type;\n",
       "    properties['figure_id'] = this.id;\n",
       "    this.ws.send(JSON.stringify(properties));\n",
       "}\n",
       "\n",
       "mpl.figure.prototype.send_draw_message = function() {\n",
       "    if (!this.waiting) {\n",
       "        this.waiting = true;\n",
       "        this.ws.send(JSON.stringify({type: \"draw\", figure_id: this.id}));\n",
       "    }\n",
       "}\n",
       "\n",
       "\n",
       "mpl.figure.prototype.handle_save = function(fig, msg) {\n",
       "    var format_dropdown = fig.format_dropdown;\n",
       "    var format = format_dropdown.options[format_dropdown.selectedIndex].value;\n",
       "    fig.ondownload(fig, format);\n",
       "}\n",
       "\n",
       "\n",
       "mpl.figure.prototype.handle_resize = function(fig, msg) {\n",
       "    var size = msg['size'];\n",
       "    if (size[0] != fig.canvas.width || size[1] != fig.canvas.height) {\n",
       "        fig._resize_canvas(size[0], size[1]);\n",
       "        fig.send_message(\"refresh\", {});\n",
       "    };\n",
       "}\n",
       "\n",
       "mpl.figure.prototype.handle_rubberband = function(fig, msg) {\n",
       "    var x0 = msg['x0'] / mpl.ratio;\n",
       "    var y0 = (fig.canvas.height - msg['y0']) / mpl.ratio;\n",
       "    var x1 = msg['x1'] / mpl.ratio;\n",
       "    var y1 = (fig.canvas.height - msg['y1']) / mpl.ratio;\n",
       "    x0 = Math.floor(x0) + 0.5;\n",
       "    y0 = Math.floor(y0) + 0.5;\n",
       "    x1 = Math.floor(x1) + 0.5;\n",
       "    y1 = Math.floor(y1) + 0.5;\n",
       "    var min_x = Math.min(x0, x1);\n",
       "    var min_y = Math.min(y0, y1);\n",
       "    var width = Math.abs(x1 - x0);\n",
       "    var height = Math.abs(y1 - y0);\n",
       "\n",
       "    fig.rubberband_context.clearRect(\n",
       "        0, 0, fig.canvas.width / mpl.ratio, fig.canvas.height / mpl.ratio);\n",
       "\n",
       "    fig.rubberband_context.strokeRect(min_x, min_y, width, height);\n",
       "}\n",
       "\n",
       "mpl.figure.prototype.handle_figure_label = function(fig, msg) {\n",
       "    // Updates the figure title.\n",
       "    fig.header.textContent = msg['label'];\n",
       "}\n",
       "\n",
       "mpl.figure.prototype.handle_cursor = function(fig, msg) {\n",
       "    var cursor = msg['cursor'];\n",
       "    switch(cursor)\n",
       "    {\n",
       "    case 0:\n",
       "        cursor = 'pointer';\n",
       "        break;\n",
       "    case 1:\n",
       "        cursor = 'default';\n",
       "        break;\n",
       "    case 2:\n",
       "        cursor = 'crosshair';\n",
       "        break;\n",
       "    case 3:\n",
       "        cursor = 'move';\n",
       "        break;\n",
       "    }\n",
       "    fig.rubberband_canvas.style.cursor = cursor;\n",
       "}\n",
       "\n",
       "mpl.figure.prototype.handle_message = function(fig, msg) {\n",
       "    fig.message.textContent = msg['message'];\n",
       "}\n",
       "\n",
       "mpl.figure.prototype.handle_draw = function(fig, msg) {\n",
       "    // Request the server to send over a new figure.\n",
       "    fig.send_draw_message();\n",
       "}\n",
       "\n",
       "mpl.figure.prototype.handle_image_mode = function(fig, msg) {\n",
       "    fig.image_mode = msg['mode'];\n",
       "}\n",
       "\n",
       "mpl.figure.prototype.updated_canvas_event = function() {\n",
       "    // Called whenever the canvas gets updated.\n",
       "    this.send_message(\"ack\", {});\n",
       "}\n",
       "\n",
       "// A function to construct a web socket function for onmessage handling.\n",
       "// Called in the figure constructor.\n",
       "mpl.figure.prototype._make_on_message_function = function(fig) {\n",
       "    return function socket_on_message(evt) {\n",
       "        if (evt.data instanceof Blob) {\n",
       "            /* FIXME: We get \"Resource interpreted as Image but\n",
       "             * transferred with MIME type text/plain:\" errors on\n",
       "             * Chrome.  But how to set the MIME type?  It doesn't seem\n",
       "             * to be part of the websocket stream */\n",
       "            evt.data.type = \"image/png\";\n",
       "\n",
       "            /* Free the memory for the previous frames */\n",
       "            if (fig.imageObj.src) {\n",
       "                (window.URL || window.webkitURL).revokeObjectURL(\n",
       "                    fig.imageObj.src);\n",
       "            }\n",
       "\n",
       "            fig.imageObj.src = (window.URL || window.webkitURL).createObjectURL(\n",
       "                evt.data);\n",
       "            fig.updated_canvas_event();\n",
       "            fig.waiting = false;\n",
       "            return;\n",
       "        }\n",
       "        else if (typeof evt.data === 'string' && evt.data.slice(0, 21) == \"data:image/png;base64\") {\n",
       "            fig.imageObj.src = evt.data;\n",
       "            fig.updated_canvas_event();\n",
       "            fig.waiting = false;\n",
       "            return;\n",
       "        }\n",
       "\n",
       "        var msg = JSON.parse(evt.data);\n",
       "        var msg_type = msg['type'];\n",
       "\n",
       "        // Call the  \"handle_{type}\" callback, which takes\n",
       "        // the figure and JSON message as its only arguments.\n",
       "        try {\n",
       "            var callback = fig[\"handle_\" + msg_type];\n",
       "        } catch (e) {\n",
       "            console.log(\"No handler for the '\" + msg_type + \"' message type: \", msg);\n",
       "            return;\n",
       "        }\n",
       "\n",
       "        if (callback) {\n",
       "            try {\n",
       "                // console.log(\"Handling '\" + msg_type + \"' message: \", msg);\n",
       "                callback(fig, msg);\n",
       "            } catch (e) {\n",
       "                console.log(\"Exception inside the 'handler_\" + msg_type + \"' callback:\", e, e.stack, msg);\n",
       "            }\n",
       "        }\n",
       "    };\n",
       "}\n",
       "\n",
       "// from http://stackoverflow.com/questions/1114465/getting-mouse-location-in-canvas\n",
       "mpl.findpos = function(e) {\n",
       "    //this section is from http://www.quirksmode.org/js/events_properties.html\n",
       "    var targ;\n",
       "    if (!e)\n",
       "        e = window.event;\n",
       "    if (e.target)\n",
       "        targ = e.target;\n",
       "    else if (e.srcElement)\n",
       "        targ = e.srcElement;\n",
       "    if (targ.nodeType == 3) // defeat Safari bug\n",
       "        targ = targ.parentNode;\n",
       "\n",
       "    // jQuery normalizes the pageX and pageY\n",
       "    // pageX,Y are the mouse positions relative to the document\n",
       "    // offset() returns the position of the element relative to the document\n",
       "    var x = e.pageX - $(targ).offset().left;\n",
       "    var y = e.pageY - $(targ).offset().top;\n",
       "\n",
       "    return {\"x\": x, \"y\": y};\n",
       "};\n",
       "\n",
       "/*\n",
       " * return a copy of an object with only non-object keys\n",
       " * we need this to avoid circular references\n",
       " * http://stackoverflow.com/a/24161582/3208463\n",
       " */\n",
       "function simpleKeys (original) {\n",
       "  return Object.keys(original).reduce(function (obj, key) {\n",
       "    if (typeof original[key] !== 'object')\n",
       "        obj[key] = original[key]\n",
       "    return obj;\n",
       "  }, {});\n",
       "}\n",
       "\n",
       "mpl.figure.prototype.mouse_event = function(event, name) {\n",
       "    var canvas_pos = mpl.findpos(event)\n",
       "\n",
       "    if (name === 'button_press')\n",
       "    {\n",
       "        this.canvas.focus();\n",
       "        this.canvas_div.focus();\n",
       "    }\n",
       "\n",
       "    var x = canvas_pos.x * mpl.ratio;\n",
       "    var y = canvas_pos.y * mpl.ratio;\n",
       "\n",
       "    this.send_message(name, {x: x, y: y, button: event.button,\n",
       "                             step: event.step,\n",
       "                             guiEvent: simpleKeys(event)});\n",
       "\n",
       "    /* This prevents the web browser from automatically changing to\n",
       "     * the text insertion cursor when the button is pressed.  We want\n",
       "     * to control all of the cursor setting manually through the\n",
       "     * 'cursor' event from matplotlib */\n",
       "    event.preventDefault();\n",
       "    return false;\n",
       "}\n",
       "\n",
       "mpl.figure.prototype._key_event_extra = function(event, name) {\n",
       "    // Handle any extra behaviour associated with a key event\n",
       "}\n",
       "\n",
       "mpl.figure.prototype.key_event = function(event, name) {\n",
       "\n",
       "    // Prevent repeat events\n",
       "    if (name == 'key_press')\n",
       "    {\n",
       "        if (event.which === this._key)\n",
       "            return;\n",
       "        else\n",
       "            this._key = event.which;\n",
       "    }\n",
       "    if (name == 'key_release')\n",
       "        this._key = null;\n",
       "\n",
       "    var value = '';\n",
       "    if (event.ctrlKey && event.which != 17)\n",
       "        value += \"ctrl+\";\n",
       "    if (event.altKey && event.which != 18)\n",
       "        value += \"alt+\";\n",
       "    if (event.shiftKey && event.which != 16)\n",
       "        value += \"shift+\";\n",
       "\n",
       "    value += 'k';\n",
       "    value += event.which.toString();\n",
       "\n",
       "    this._key_event_extra(event, name);\n",
       "\n",
       "    this.send_message(name, {key: value,\n",
       "                             guiEvent: simpleKeys(event)});\n",
       "    return false;\n",
       "}\n",
       "\n",
       "mpl.figure.prototype.toolbar_button_onclick = function(name) {\n",
       "    if (name == 'download') {\n",
       "        this.handle_save(this, null);\n",
       "    } else {\n",
       "        this.send_message(\"toolbar_button\", {name: name});\n",
       "    }\n",
       "};\n",
       "\n",
       "mpl.figure.prototype.toolbar_button_onmouseover = function(tooltip) {\n",
       "    this.message.textContent = tooltip;\n",
       "};\n",
       "mpl.toolbar_items = [[\"Home\", \"Reset original view\", \"fa fa-home icon-home\", \"home\"], [\"Back\", \"Back to previous view\", \"fa fa-arrow-left icon-arrow-left\", \"back\"], [\"Forward\", \"Forward to next view\", \"fa fa-arrow-right icon-arrow-right\", \"forward\"], [\"\", \"\", \"\", \"\"], [\"Pan\", \"Pan axes with left mouse, zoom with right\", \"fa fa-arrows icon-move\", \"pan\"], [\"Zoom\", \"Zoom to rectangle\", \"fa fa-square-o icon-check-empty\", \"zoom\"], [\"\", \"\", \"\", \"\"], [\"Download\", \"Download plot\", \"fa fa-floppy-o icon-save\", \"download\"]];\n",
       "\n",
       "mpl.extensions = [\"eps\", \"pdf\", \"png\", \"ps\", \"raw\", \"svg\"];\n",
       "\n",
       "mpl.default_extension = \"png\";var comm_websocket_adapter = function(comm) {\n",
       "    // Create a \"websocket\"-like object which calls the given IPython comm\n",
       "    // object with the appropriate methods. Currently this is a non binary\n",
       "    // socket, so there is still some room for performance tuning.\n",
       "    var ws = {};\n",
       "\n",
       "    ws.close = function() {\n",
       "        comm.close()\n",
       "    };\n",
       "    ws.send = function(m) {\n",
       "        //console.log('sending', m);\n",
       "        comm.send(m);\n",
       "    };\n",
       "    // Register the callback with on_msg.\n",
       "    comm.on_msg(function(msg) {\n",
       "        //console.log('receiving', msg['content']['data'], msg);\n",
       "        // Pass the mpl event to the overridden (by mpl) onmessage function.\n",
       "        ws.onmessage(msg['content']['data'])\n",
       "    });\n",
       "    return ws;\n",
       "}\n",
       "\n",
       "mpl.mpl_figure_comm = function(comm, msg) {\n",
       "    // This is the function which gets called when the mpl process\n",
       "    // starts-up an IPython Comm through the \"matplotlib\" channel.\n",
       "\n",
       "    var id = msg.content.data.id;\n",
       "    // Get hold of the div created by the display call when the Comm\n",
       "    // socket was opened in Python.\n",
       "    var element = $(\"#\" + id);\n",
       "    var ws_proxy = comm_websocket_adapter(comm)\n",
       "\n",
       "    function ondownload(figure, format) {\n",
       "        window.open(figure.imageObj.src);\n",
       "    }\n",
       "\n",
       "    var fig = new mpl.figure(id, ws_proxy,\n",
       "                           ondownload,\n",
       "                           element.get(0));\n",
       "\n",
       "    // Call onopen now - mpl needs it, as it is assuming we've passed it a real\n",
       "    // web socket which is closed, not our websocket->open comm proxy.\n",
       "    ws_proxy.onopen();\n",
       "\n",
       "    fig.parent_element = element.get(0);\n",
       "    fig.cell_info = mpl.find_output_cell(\"<div id='\" + id + \"'></div>\");\n",
       "    if (!fig.cell_info) {\n",
       "        console.error(\"Failed to find cell for figure\", id, fig);\n",
       "        return;\n",
       "    }\n",
       "\n",
       "    var output_index = fig.cell_info[2]\n",
       "    var cell = fig.cell_info[0];\n",
       "\n",
       "};\n",
       "\n",
       "mpl.figure.prototype.handle_close = function(fig, msg) {\n",
       "    var width = fig.canvas.width/mpl.ratio\n",
       "    fig.root.unbind('remove')\n",
       "\n",
       "    // Update the output cell to use the data from the current canvas.\n",
       "    fig.push_to_output();\n",
       "    var dataURL = fig.canvas.toDataURL();\n",
       "    // Re-enable the keyboard manager in IPython - without this line, in FF,\n",
       "    // the notebook keyboard shortcuts fail.\n",
       "    IPython.keyboard_manager.enable()\n",
       "    $(fig.parent_element).html('<img src=\"' + dataURL + '\" width=\"' + width + '\">');\n",
       "    fig.close_ws(fig, msg);\n",
       "}\n",
       "\n",
       "mpl.figure.prototype.close_ws = function(fig, msg){\n",
       "    fig.send_message('closing', msg);\n",
       "    // fig.ws.close()\n",
       "}\n",
       "\n",
       "mpl.figure.prototype.push_to_output = function(remove_interactive) {\n",
       "    // Turn the data on the canvas into data in the output cell.\n",
       "    var width = this.canvas.width/mpl.ratio\n",
       "    var dataURL = this.canvas.toDataURL();\n",
       "    this.cell_info[1]['text/html'] = '<img src=\"' + dataURL + '\" width=\"' + width + '\">';\n",
       "}\n",
       "\n",
       "mpl.figure.prototype.updated_canvas_event = function() {\n",
       "    // Tell IPython that the notebook contents must change.\n",
       "    IPython.notebook.set_dirty(true);\n",
       "    this.send_message(\"ack\", {});\n",
       "    var fig = this;\n",
       "    // Wait a second, then push the new image to the DOM so\n",
       "    // that it is saved nicely (might be nice to debounce this).\n",
       "    setTimeout(function () { fig.push_to_output() }, 1000);\n",
       "}\n",
       "\n",
       "mpl.figure.prototype._init_toolbar = function() {\n",
       "    var fig = this;\n",
       "\n",
       "    var nav_element = $('<div/>');\n",
       "    nav_element.attr('style', 'width: 100%');\n",
       "    this.root.append(nav_element);\n",
       "\n",
       "    // Define a callback function for later on.\n",
       "    function toolbar_event(event) {\n",
       "        return fig.toolbar_button_onclick(event['data']);\n",
       "    }\n",
       "    function toolbar_mouse_event(event) {\n",
       "        return fig.toolbar_button_onmouseover(event['data']);\n",
       "    }\n",
       "\n",
       "    for(var toolbar_ind in mpl.toolbar_items){\n",
       "        var name = mpl.toolbar_items[toolbar_ind][0];\n",
       "        var tooltip = mpl.toolbar_items[toolbar_ind][1];\n",
       "        var image = mpl.toolbar_items[toolbar_ind][2];\n",
       "        var method_name = mpl.toolbar_items[toolbar_ind][3];\n",
       "\n",
       "        if (!name) { continue; };\n",
       "\n",
       "        var button = $('<button class=\"btn btn-default\" href=\"#\" title=\"' + name + '\"><i class=\"fa ' + image + ' fa-lg\"></i></button>');\n",
       "        button.click(method_name, toolbar_event);\n",
       "        button.mouseover(tooltip, toolbar_mouse_event);\n",
       "        nav_element.append(button);\n",
       "    }\n",
       "\n",
       "    // Add the status bar.\n",
       "    var status_bar = $('<span class=\"mpl-message\" style=\"text-align:right; float: right;\"/>');\n",
       "    nav_element.append(status_bar);\n",
       "    this.message = status_bar[0];\n",
       "\n",
       "    // Add the close button to the window.\n",
       "    var buttongrp = $('<div class=\"btn-group inline pull-right\"></div>');\n",
       "    var button = $('<button class=\"btn btn-mini btn-primary\" href=\"#\" title=\"Stop Interaction\"><i class=\"fa fa-power-off icon-remove icon-large\"></i></button>');\n",
       "    button.click(function (evt) { fig.handle_close(fig, {}); } );\n",
       "    button.mouseover('Stop Interaction', toolbar_mouse_event);\n",
       "    buttongrp.append(button);\n",
       "    var titlebar = this.root.find($('.ui-dialog-titlebar'));\n",
       "    titlebar.prepend(buttongrp);\n",
       "}\n",
       "\n",
       "mpl.figure.prototype._root_extra_style = function(el){\n",
       "    var fig = this\n",
       "    el.on(\"remove\", function(){\n",
       "\tfig.close_ws(fig, {});\n",
       "    });\n",
       "}\n",
       "\n",
       "mpl.figure.prototype._canvas_extra_style = function(el){\n",
       "    // this is important to make the div 'focusable\n",
       "    el.attr('tabindex', 0)\n",
       "    // reach out to IPython and tell the keyboard manager to turn it's self\n",
       "    // off when our div gets focus\n",
       "\n",
       "    // location in version 3\n",
       "    if (IPython.notebook.keyboard_manager) {\n",
       "        IPython.notebook.keyboard_manager.register_events(el);\n",
       "    }\n",
       "    else {\n",
       "        // location in version 2\n",
       "        IPython.keyboard_manager.register_events(el);\n",
       "    }\n",
       "\n",
       "}\n",
       "\n",
       "mpl.figure.prototype._key_event_extra = function(event, name) {\n",
       "    var manager = IPython.notebook.keyboard_manager;\n",
       "    if (!manager)\n",
       "        manager = IPython.keyboard_manager;\n",
       "\n",
       "    // Check for shift+enter\n",
       "    if (event.shiftKey && event.which == 13) {\n",
       "        this.canvas_div.blur();\n",
       "        // select the cell after this one\n",
       "        var index = IPython.notebook.find_cell_index(this.cell_info[0]);\n",
       "        IPython.notebook.select(index + 1);\n",
       "    }\n",
       "}\n",
       "\n",
       "mpl.figure.prototype.handle_save = function(fig, msg) {\n",
       "    fig.ondownload(fig, null);\n",
       "}\n",
       "\n",
       "\n",
       "mpl.find_output_cell = function(html_output) {\n",
       "    // Return the cell and output element which can be found *uniquely* in the notebook.\n",
       "    // Note - this is a bit hacky, but it is done because the \"notebook_saving.Notebook\"\n",
       "    // IPython event is triggered only after the cells have been serialised, which for\n",
       "    // our purposes (turning an active figure into a static one), is too late.\n",
       "    var cells = IPython.notebook.get_cells();\n",
       "    var ncells = cells.length;\n",
       "    for (var i=0; i<ncells; i++) {\n",
       "        var cell = cells[i];\n",
       "        if (cell.cell_type === 'code'){\n",
       "            for (var j=0; j<cell.output_area.outputs.length; j++) {\n",
       "                var data = cell.output_area.outputs[j];\n",
       "                if (data.data) {\n",
       "                    // IPython >= 3 moved mimebundle to data attribute of output\n",
       "                    data = data.data;\n",
       "                }\n",
       "                if (data['text/html'] == html_output) {\n",
       "                    return [cell, data, j];\n",
       "                }\n",
       "            }\n",
       "        }\n",
       "    }\n",
       "}\n",
       "\n",
       "// Register the function which deals with the matplotlib target/channel.\n",
       "// The kernel may be null if the page has been refreshed.\n",
       "if (IPython.notebook.kernel != null) {\n",
       "    IPython.notebook.kernel.comm_manager.register_target('matplotlib', mpl.mpl_figure_comm);\n",
       "}\n"
      ],
      "text/plain": [
       "<IPython.core.display.Javascript object>"
      ]
     },
     "metadata": {},
     "output_type": "display_data"
    },
    {
     "data": {
      "text/html": [
       "<img src=\"data:image/png;base64,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\" width=\"432\">"
      ],
      "text/plain": [
       "<IPython.core.display.HTML object>"
      ]
     },
     "metadata": {},
     "output_type": "display_data"
    }
   ],
   "source": [
    "%matplotlib notebook\n",
    "plt.plot([0, 1], [-1, 0])\n",
    "plt.show()"
   ]
  },
  {
   "cell_type": "markdown",
   "metadata": {
    "slideshow": {
     "slide_type": "subslide"
    }
   },
   "source": [
    "### %pdoc, ?`<object>`\n",
    "Anzeige der Dokumentation für ein Object"
   ]
  },
  {
   "cell_type": "code",
   "execution_count": 8,
   "metadata": {
    "ExecuteTime": {
     "end_time": "2020-05-07T10:25:10.178026Z",
     "start_time": "2020-05-07T10:25:10.144932Z"
    },
    "slideshow": {
     "slide_type": "-"
    }
   },
   "outputs": [],
   "source": [
    "%pdoc sum"
   ]
  },
  {
   "cell_type": "code",
   "execution_count": 9,
   "metadata": {
    "ExecuteTime": {
     "end_time": "2020-05-07T10:25:10.256126Z",
     "start_time": "2020-05-07T10:25:10.179134Z"
    },
    "slideshow": {
     "slide_type": "-"
    }
   },
   "outputs": [],
   "source": [
    "%pdoc dict"
   ]
  },
  {
   "cell_type": "code",
   "execution_count": 10,
   "metadata": {
    "ExecuteTime": {
     "end_time": "2020-05-07T10:25:10.386321Z",
     "start_time": "2020-05-07T10:25:10.257878Z"
    }
   },
   "outputs": [],
   "source": [
    "dict?"
   ]
  },
  {
   "cell_type": "markdown",
   "metadata": {
    "slideshow": {
     "slide_type": "subslide"
    }
   },
   "source": [
    "### %prun, %%prun\n",
    "Befehl oder Zelle mit den Python Code Profiler ausführen"
   ]
  },
  {
   "cell_type": "code",
   "execution_count": 11,
   "metadata": {
    "ExecuteTime": {
     "end_time": "2020-05-07T10:25:10.700108Z",
     "start_time": "2020-05-07T10:25:10.387618Z"
    },
    "slideshow": {
     "slide_type": "-"
    }
   },
   "outputs": [
    {
     "name": "stdout",
     "output_type": "stream",
     "text": [
      " "
     ]
    }
   ],
   "source": [
    "%prun [v ** 2 for v in range(1000000)]"
   ]
  },
  {
   "cell_type": "code",
   "execution_count": 12,
   "metadata": {
    "ExecuteTime": {
     "end_time": "2020-05-07T10:25:10.704807Z",
     "start_time": "2020-05-07T10:25:10.701939Z"
    },
    "slideshow": {
     "slide_type": "-"
    }
   },
   "outputs": [],
   "source": [
    "def quad_sum(a: list):\n",
    "    return sum(v ** 2 for v in a)"
   ]
  },
  {
   "cell_type": "code",
   "execution_count": 13,
   "metadata": {
    "ExecuteTime": {
     "end_time": "2020-05-07T10:25:11.188326Z",
     "start_time": "2020-05-07T10:25:10.708761Z"
    },
    "slideshow": {
     "slide_type": "-"
    }
   },
   "outputs": [
    {
     "name": "stdout",
     "output_type": "stream",
     "text": [
      " "
     ]
    }
   ],
   "source": [
    "%%prun\n",
    "a = list(range(1000000))\n",
    "b = quad_sum(a)\n",
    "c = b ** 0.5"
   ]
  },
  {
   "cell_type": "markdown",
   "metadata": {
    "slideshow": {
     "slide_type": "subslide"
    }
   },
   "source": [
    "### %reset, %who, %who_ls\n",
    "* %reset entfernt bisher genutzte Variablen\n",
    "* %who zeigt Variablen eines bestimmten Typs\n",
    "* %who_ls zeigt alle deklarierten Variablen"
   ]
  },
  {
   "cell_type": "code",
   "execution_count": 14,
   "metadata": {
    "ExecuteTime": {
     "end_time": "2020-05-07T10:25:11.194146Z",
     "start_time": "2020-05-07T10:25:11.190934Z"
    },
    "slideshow": {
     "slide_type": "-"
    }
   },
   "outputs": [
    {
     "name": "stdout",
     "output_type": "stream",
     "text": [
      "a\t \n"
     ]
    }
   ],
   "source": [
    "%who list"
   ]
  },
  {
   "cell_type": "code",
   "execution_count": 15,
   "metadata": {
    "ExecuteTime": {
     "end_time": "2020-05-07T10:25:11.269855Z",
     "start_time": "2020-05-07T10:25:11.195505Z"
    },
    "slideshow": {
     "slide_type": "-"
    }
   },
   "outputs": [
    {
     "data": {
      "text/plain": [
       "['a', 'autopep8', 'b', 'c', 'json', 'plt', 'quad_sum']"
      ]
     },
     "execution_count": 15,
     "metadata": {},
     "output_type": "execute_result"
    }
   ],
   "source": [
    "%who_ls"
   ]
  },
  {
   "cell_type": "code",
   "execution_count": 16,
   "metadata": {
    "ExecuteTime": {
     "end_time": "2020-05-07T10:25:15.749180Z",
     "start_time": "2020-05-07T10:25:11.271916Z"
    },
    "slideshow": {
     "slide_type": "-"
    }
   },
   "outputs": [
    {
     "name": "stdout",
     "output_type": "stream",
     "text": [
      "Once deleted, variables cannot be recovered. Proceed (y/[n])? n\n",
      "Nothing done.\n"
     ]
    },
    {
     "data": {
      "text/plain": [
       "['a', 'autopep8', 'b', 'c', 'json', 'plt', 'quad_sum']"
      ]
     },
     "execution_count": 16,
     "metadata": {},
     "output_type": "execute_result"
    }
   ],
   "source": [
    "%reset\n",
    "%who_ls"
   ]
  },
  {
   "cell_type": "markdown",
   "metadata": {
    "slideshow": {
     "slide_type": "subslide"
    }
   },
   "source": [
    "### %%bash, %%html, %%javascript, %%js, %%latex, %%markdown, %%perl ...\n",
    "Zelle wird in der entsprechenden Umgebung ausgeführt"
   ]
  },
  {
   "cell_type": "code",
   "execution_count": 17,
   "metadata": {
    "ExecuteTime": {
     "end_time": "2020-05-07T10:25:15.754559Z",
     "start_time": "2020-05-07T10:25:15.750627Z"
    },
    "slideshow": {
     "slide_type": "-"
    }
   },
   "outputs": [
    {
     "data": {
      "text/latex": [
       "$\\iint_\\Omega\\frac{1}{1+5 \\cdot x^{-1}}\\mathrm{d}x = ?$\n"
      ],
      "text/plain": [
       "<IPython.core.display.Latex object>"
      ]
     },
     "metadata": {},
     "output_type": "display_data"
    }
   ],
   "source": [
    "%%latex\n",
    "$\\iint_\\Omega\\frac{1}{1+5 \\cdot x^{-1}}\\mathrm{d}x = ?$"
   ]
  },
  {
   "cell_type": "markdown",
   "metadata": {
    "slideshow": {
     "slide_type": "slide"
    }
   },
   "source": [
    "## Python Standard Library Module"
   ]
  },
  {
   "cell_type": "markdown",
   "metadata": {
    "slideshow": {
     "slide_type": "subslide"
    }
   },
   "source": [
    "### os https://docs.python.org/3/library/os.html, os.path https://docs.python.org/3/library/os.path.html#module-os.path, sys https://docs.python.org/3/library/sys.html\n",
    "OS unabhängiger Zugriff auf das System"
   ]
  },
  {
   "cell_type": "code",
   "execution_count": 18,
   "metadata": {
    "ExecuteTime": {
     "end_time": "2020-05-07T10:25:15.852867Z",
     "start_time": "2020-05-07T10:25:15.756083Z"
    }
   },
   "outputs": [
    {
     "name": "stdout",
     "output_type": "stream",
     "text": [
      "['vmlinuz', 'srv', 'lib', 'home', 'bin', 'sys', 'mnt', 'run', 'proc', 'dev', 'initrd.img', 'initrd.img.old', 'root', 'vmlinuz.old', 'media', 'opt', 'var', 'boot', 'usr', 'sbin', 'lib64', 'cdrom', 'lost+found', 'etc', 'tmp']\n"
     ]
    }
   ],
   "source": [
    "import os, sys\n",
    "print(os.listdir(\"/\"))"
   ]
  },
  {
   "cell_type": "code",
   "execution_count": 19,
   "metadata": {
    "ExecuteTime": {
     "end_time": "2020-05-07T10:25:15.937384Z",
     "start_time": "2020-05-07T10:25:15.854565Z"
    }
   },
   "outputs": [
    {
     "name": "stdout",
     "output_type": "stream",
     "text": [
      "<DirEntry '.ipynb_checkpoints'>                | .ipynb_checkpoints                | isfile - False\n",
      "<DirEntry 'Aufgabe1.ipynb'>                    | Aufgabe1.ipynb                    | isfile - True\n",
      "<DirEntry 'SPAM.txt'>                          | SPAM.txt                          | isfile - True\n",
      "<DirEntry 'Hexeneinmaleins.txt'>               | Hexeneinmaleins.txt               | isfile - True\n",
      "<DirEntry 'HalloWelt.txt'>                     | HalloWelt.txt                     | isfile - True\n"
     ]
    }
   ],
   "source": [
    "for entry in os.scandir('./Besprechung_Uebungen/Aufgabe1/'):\n",
    "    print(f\"{str(entry):<46} | {entry.name:<33} | isfile - {str(entry.is_file())}\")"
   ]
  },
  {
   "cell_type": "code",
   "execution_count": 20,
   "metadata": {
    "ExecuteTime": {
     "end_time": "2020-05-07T10:25:16.020816Z",
     "start_time": "2020-05-07T10:25:15.938661Z"
    },
    "slideshow": {
     "slide_type": "subslide"
    }
   },
   "outputs": [
    {
     "name": "stdout",
     "output_type": "stream",
     "text": [
      "./Besprechung_Uebungen/Aufgabe1/                   | .ipynb_checkpoints | Aufgabe1.ipynb, SPAM.txt, Hexeneinmaleins.txt, HalloWelt.txt\n",
      "./Besprechung_Uebungen/Aufgabe1/.ipynb_checkpoints |                    | Aufgabe1-checkpoint.ipynb\n"
     ]
    }
   ],
   "source": [
    "for entry in os.walk('./Besprechung_Uebungen/Aufgabe1/'):\n",
    "    folder, subfolders, files = entry\n",
    "    print(f\"{folder:<50} | {', '.join(subfolders):<18} | {', '.join(files)}\")"
   ]
  },
  {
   "cell_type": "code",
   "execution_count": 21,
   "metadata": {
    "ExecuteTime": {
     "end_time": "2020-05-07T10:25:16.088566Z",
     "start_time": "2020-05-07T10:25:16.021969Z"
    }
   },
   "outputs": [
    {
     "name": "stdout",
     "output_type": "stream",
     "text": [
      "['1']\n",
      "True\n",
      "False\n"
     ]
    }
   ],
   "source": [
    "os.makedirs('./1/1/1', exist_ok=True)\n",
    "print(os.listdir('./1'))\n",
    "print(os.path.exists('./1'))\n",
    "\n",
    "os.removedirs('./1/1/1')\n",
    "print(os.path.exists('./1'))"
   ]
  },
  {
   "cell_type": "code",
   "execution_count": 22,
   "metadata": {
    "ExecuteTime": {
     "end_time": "2020-05-07T10:25:16.187252Z",
     "start_time": "2020-05-07T10:25:16.089967Z"
    }
   },
   "outputs": [
    {
     "data": {
      "text/plain": [
       "'/home/dkappe/anaconda3/envs/show-py/bin:/home/dkappe/anaconda3/condabin:/home/dkappe/.local/bin:/home/dkappe/bin:/usr/local/bin:/home/dkappe/.local/bin:/home/dkappe/bin:/usr/local/bin:/home/dkappe/.local/bin:/usr/local/sbin:/usr/local/bin:/usr/sbin:/usr/bin:/sbin:/bin:/usr/games:/usr/local/games'"
      ]
     },
     "execution_count": 22,
     "metadata": {},
     "output_type": "execute_result"
    }
   ],
   "source": [
    "os.environ['PATH']"
   ]
  },
  {
   "cell_type": "code",
   "execution_count": 23,
   "metadata": {
    "ExecuteTime": {
     "end_time": "2020-05-07T10:25:16.262158Z",
     "start_time": "2020-05-07T10:25:16.188709Z"
    },
    "slideshow": {
     "slide_type": "subslide"
    }
   },
   "outputs": [
    {
     "name": "stdout",
     "output_type": "stream",
     "text": [
      "/home/dkappe/Dokumente/Lehrauftraege/FH_Bielefeld/Programmiersprachen_zur_Datenanalyse/Python\n",
      "/home/dkappe/Dokumente/Lehrauftraege/FH_Bielefeld/Programmiersprachen_zur_Datenanalyse\n"
     ]
    }
   ],
   "source": [
    "print(os.getcwd())\n",
    "\n",
    "os.chdir(os.pardir)\n",
    "print(os.getcwd())"
   ]
  },
  {
   "cell_type": "code",
   "execution_count": 24,
   "metadata": {
    "ExecuteTime": {
     "end_time": "2020-05-07T10:25:16.351952Z",
     "start_time": "2020-05-07T10:25:16.263726Z"
    }
   },
   "outputs": [
    {
     "data": {
      "text/plain": [
       "['/home/dkappe/anaconda3/envs/show-py/lib/python3.8/site-packages/ipykernel_launcher.py',\n",
       " '-f',\n",
       " '/home/dkappe/.local/share/jupyter/runtime/kernel-208c4960-36bd-4931-9d90-816370ef4956.json']"
      ]
     },
     "execution_count": 24,
     "metadata": {},
     "output_type": "execute_result"
    }
   ],
   "source": [
    "sys.argv"
   ]
  },
  {
   "cell_type": "code",
   "execution_count": 25,
   "metadata": {
    "ExecuteTime": {
     "end_time": "2020-05-07T10:25:16.444708Z",
     "start_time": "2020-05-07T10:25:16.353497Z"
    }
   },
   "outputs": [
    {
     "data": {
      "text/plain": [
       "'linux'"
      ]
     },
     "execution_count": 25,
     "metadata": {},
     "output_type": "execute_result"
    }
   ],
   "source": [
    "sys.platform"
   ]
  },
  {
   "cell_type": "code",
   "execution_count": 26,
   "metadata": {
    "ExecuteTime": {
     "end_time": "2020-05-07T10:25:16.519665Z",
     "start_time": "2020-05-07T10:25:16.447877Z"
    }
   },
   "outputs": [
    {
     "ename": "SystemExit",
     "evalue": "",
     "output_type": "error",
     "traceback": [
      "An exception has occurred, use %tb to see the full traceback.\n",
      "\u001b[0;31mSystemExit\u001b[0m\n"
     ]
    },
    {
     "name": "stderr",
     "output_type": "stream",
     "text": [
      "/home/dkappe/anaconda3/envs/show-py/lib/python3.8/site-packages/IPython/core/interactiveshell.py:3339: UserWarning: To exit: use 'exit', 'quit', or Ctrl-D.\n",
      "  warn(\"To exit: use 'exit', 'quit', or Ctrl-D.\", stacklevel=1)\n"
     ]
    }
   ],
   "source": [
    "sys.exit()"
   ]
  },
  {
   "cell_type": "markdown",
   "metadata": {
    "slideshow": {
     "slide_type": "subslide"
    }
   },
   "source": [
    "### functools - https://docs.python.org/3/library/functools.html\n",
    "Mehr Funktionalität für Funktionen"
   ]
  },
  {
   "cell_type": "code",
   "execution_count": 28,
   "metadata": {
    "ExecuteTime": {
     "end_time": "2020-05-07T10:25:40.558904Z",
     "start_time": "2020-05-07T10:25:40.551541Z"
    }
   },
   "outputs": [],
   "source": [
    "import functools\n",
    "def fibonacci(n):\n",
    "    if n > 1:\n",
    "        return fibonacci(n - 1) + fibonacci(n - 2)\n",
    "    else:\n",
    "        return 1\n",
    "\n",
    "@functools.lru_cache\n",
    "def fibonacci_cached(n):\n",
    "    if n > 1:\n",
    "        return fibonacci(n - 1) + fibonacci(n - 2)\n",
    "    else:\n",
    "        return 1"
   ]
  },
  {
   "cell_type": "code",
   "execution_count": 29,
   "metadata": {
    "ExecuteTime": {
     "end_time": "2020-05-07T10:25:47.939023Z",
     "start_time": "2020-05-07T10:25:42.982822Z"
    }
   },
   "outputs": [
    {
     "name": "stdout",
     "output_type": "stream",
     "text": [
      "618 ms ± 9.64 ms per loop (mean ± std. dev. of 7 runs, 1 loop each)\n"
     ]
    }
   ],
   "source": [
    "%timeit fibonacci(32)"
   ]
  },
  {
   "cell_type": "code",
   "execution_count": 30,
   "metadata": {
    "ExecuteTime": {
     "end_time": "2020-05-07T10:25:48.575438Z",
     "start_time": "2020-05-07T10:25:47.940509Z"
    }
   },
   "outputs": [
    {
     "name": "stdout",
     "output_type": "stream",
     "text": [
      "The slowest run took 10.21 times longer than the fastest. This could mean that an intermediate result is being cached.\n",
      "524 ns ± 631 ns per loop (mean ± std. dev. of 7 runs, 1 loop each)\n"
     ]
    }
   ],
   "source": [
    "%timeit fibonacci_cached(32)"
   ]
  },
  {
   "cell_type": "code",
   "execution_count": 31,
   "metadata": {
    "ExecuteTime": {
     "end_time": "2020-05-07T10:25:48.621871Z",
     "start_time": "2020-05-07T10:25:48.618517Z"
    },
    "slideshow": {
     "slide_type": "subslide"
    }
   },
   "outputs": [
    {
     "data": {
      "text/plain": [
       "89"
      ]
     },
     "execution_count": 31,
     "metadata": {},
     "output_type": "execute_result"
    }
   ],
   "source": [
    "fibonacci_10 = functools.partial(fibonacci_cached, 10)\n",
    "fibonacci_10()"
   ]
  },
  {
   "cell_type": "code",
   "execution_count": 32,
   "metadata": {
    "ExecuteTime": {
     "end_time": "2020-05-07T10:25:52.400696Z",
     "start_time": "2020-05-07T10:25:52.393430Z"
    }
   },
   "outputs": [],
   "source": [
    "@functools.singledispatch\n",
    "def who_am_i(item):\n",
    "    print(\"unknown\")\n",
    "\n",
    "@who_am_i.register(int)\n",
    "def i_am_int(item):\n",
    "    print(\"I am INT\")\n",
    "\n",
    "@who_am_i.register(list)\n",
    "def i_am_list(item):\n",
    "    print(\"I am LIST\")"
   ]
  },
  {
   "cell_type": "code",
   "execution_count": 33,
   "metadata": {
    "ExecuteTime": {
     "end_time": "2020-05-07T10:25:54.508594Z",
     "start_time": "2020-05-07T10:25:54.504802Z"
    }
   },
   "outputs": [
    {
     "name": "stdout",
     "output_type": "stream",
     "text": [
      "I am INT\n",
      "unknown\n",
      "I am LIST\n",
      "unknown\n"
     ]
    }
   ],
   "source": [
    "who_am_i(1)\n",
    "who_am_i(1.2)\n",
    "who_am_i([])\n",
    "who_am_i({})"
   ]
  },
  {
   "cell_type": "markdown",
   "metadata": {
    "slideshow": {
     "slide_type": "subslide"
    }
   },
   "source": [
    "### subprocess - https://docs.python.org/3/library/subprocess.html\n",
    "Andere Programme aus Python kontrollieren"
   ]
  },
  {
   "cell_type": "code",
   "execution_count": 34,
   "metadata": {
    "ExecuteTime": {
     "end_time": "2020-05-07T10:25:57.903554Z",
     "start_time": "2020-05-07T10:25:57.889240Z"
    }
   },
   "outputs": [
    {
     "name": "stdout",
     "output_type": "stream",
     "text": [
      "CompletedProcess(args=['git', 'log'], returncode=0, stdout=b'commit 00cf01f54e6e226ba452a1f16f00294d94430874\\nAuthor: Daniel Kappe <daniel.kappe@fh-bielefeld.de>\\nDate:   Tue Apr 28 18:16:15 2020 +0200\\n\\n    Save Programmiersprachen zur Datenanalyse\\n', stderr=b'')\n",
      "commit 00cf01f54e6e226ba452a1f16f00294d94430874\n",
      "Author: Daniel Kappe <daniel.kappe@fh-bielefeld.de>\n",
      "Date:   Tue Apr 28 18:16:15 2020 +0200\n",
      "\n",
      "    Save Programmiersprachen zur Datenanalyse\n",
      "\n"
     ]
    }
   ],
   "source": [
    "import subprocess\n",
    "process = subprocess.run([\"git\", \"log\"], capture_output=True, cwd='./Python', timeout=1)\n",
    "print(process)\n",
    "print(process.stdout.decode('utf-8'))"
   ]
  },
  {
   "cell_type": "code",
   "execution_count": 35,
   "metadata": {
    "ExecuteTime": {
     "end_time": "2020-05-07T10:25:59.956865Z",
     "start_time": "2020-05-07T10:25:59.944352Z"
    }
   },
   "outputs": [
    {
     "name": "stdout",
     "output_type": "stream",
     "text": [
      "insgesamt 32\n",
      "drwxr-xr-x  5 root   root    4096 Mar 31 08:58 .\n",
      "drwxr-xr-x 23 root   root    4096 Apr 29 08:42 ..\n",
      "drwxr-xr-x 64 dkappe dkappe  4096 May  7 11:24 dkappe\n",
      "drwxr-xr-x  2 root   root    4096 Mar 31 08:58 jovyan\n",
      "drwx------  2 root   root   16384 Mar  2 07:27 lost+found\n",
      "\n"
     ]
    }
   ],
   "source": [
    "with subprocess.Popen([\"ls\", \"-la\"], stdout=subprocess.PIPE, cwd='/home') as proc:\n",
    "    print(proc.stdout.read().decode(\"utf-8\"))"
   ]
  },
  {
   "cell_type": "markdown",
   "metadata": {
    "slideshow": {
     "slide_type": "subslide"
    }
   },
   "source": [
    "### datetime - https://docs.python.org/3/library/datetime.html\n",
    "Für die Arbeit mit Zeiten und Daten"
   ]
  },
  {
   "cell_type": "code",
   "execution_count": 36,
   "metadata": {
    "ExecuteTime": {
     "end_time": "2020-05-07T10:26:03.106386Z",
     "start_time": "2020-05-07T10:26:03.102276Z"
    }
   },
   "outputs": [
    {
     "data": {
      "text/plain": [
       "datetime.date(2020, 5, 7)"
      ]
     },
     "execution_count": 36,
     "metadata": {},
     "output_type": "execute_result"
    }
   ],
   "source": [
    "import datetime\n",
    "datetime.date.today()"
   ]
  },
  {
   "cell_type": "code",
   "execution_count": 37,
   "metadata": {
    "ExecuteTime": {
     "end_time": "2020-05-07T10:26:05.245787Z",
     "start_time": "2020-05-07T10:26:05.239414Z"
    }
   },
   "outputs": [
    {
     "data": {
      "text/plain": [
       "datetime.timedelta(days=231)"
      ]
     },
     "execution_count": 37,
     "metadata": {},
     "output_type": "execute_result"
    }
   ],
   "source": [
    "datetime.date.fromisoformat('2020-12-24') - datetime.date.today()"
   ]
  },
  {
   "cell_type": "code",
   "execution_count": 38,
   "metadata": {
    "ExecuteTime": {
     "end_time": "2020-05-07T10:26:07.691701Z",
     "start_time": "2020-05-07T10:26:07.687545Z"
    }
   },
   "outputs": [
    {
     "data": {
      "text/plain": [
       "962236800.0"
      ]
     },
     "execution_count": 38,
     "metadata": {},
     "output_type": "execute_result"
    }
   ],
   "source": [
    "tdelta = datetime.date.today() - datetime.date.fromisoformat('1989-11-09')\n",
    "tdelta.total_seconds()"
   ]
  },
  {
   "cell_type": "markdown",
   "metadata": {
    "slideshow": {
     "slide_type": "subslide"
    }
   },
   "source": [
    "### profile und cProfile - https://docs.python.org/3/library/profile.html, timeit - https://docs.python.org/3/library/timeit.html\n",
    "Wenns schneller sein muss, aber kein Jupyter zur Hand ist"
   ]
  },
  {
   "cell_type": "code",
   "execution_count": 39,
   "metadata": {
    "ExecuteTime": {
     "end_time": "2020-05-07T10:26:09.636062Z",
     "start_time": "2020-05-07T10:26:09.576129Z"
    }
   },
   "outputs": [
    {
     "name": "stdout",
     "output_type": "stream",
     "text": [
      "         242788 function calls (6 primitive calls) in 0.055 seconds\n",
      "\n",
      "   Ordered by: standard name\n",
      "\n",
      "   ncalls  tottime  percall  cumtime  percall filename:lineno(function)\n",
      " 242784/2    0.055    0.000    0.055    0.028 <ipython-input-28-6a3778a926e0>:2(fibonacci)\n",
      "        1    0.000    0.000    0.055    0.055 <ipython-input-28-6a3778a926e0>:8(fibonacci_cached)\n",
      "        1    0.000    0.000    0.055    0.055 <string>:1(<module>)\n",
      "        1    0.000    0.000    0.055    0.055 {built-in method builtins.exec}\n",
      "        1    0.000    0.000    0.000    0.000 {method 'disable' of '_lsprof.Profiler' objects}\n",
      "\n",
      "\n"
     ]
    }
   ],
   "source": [
    "import cProfile\n",
    "cProfile.run('fibonacci_cached(25)')"
   ]
  },
  {
   "cell_type": "code",
   "execution_count": 40,
   "metadata": {
    "ExecuteTime": {
     "end_time": "2020-05-07T10:26:12.498069Z",
     "start_time": "2020-05-07T10:26:10.872229Z"
    },
    "slideshow": {
     "slide_type": "subslide"
    }
   },
   "outputs": [
    {
     "data": {
      "text/plain": [
       "1.622672233999765"
      ]
     },
     "execution_count": 40,
     "metadata": {},
     "output_type": "execute_result"
    }
   ],
   "source": [
    "import timeit\n",
    "timeit.timeit(stmt='sum(range(10000))', setup='pass', number=10000)"
   ]
  },
  {
   "cell_type": "code",
   "execution_count": 41,
   "metadata": {
    "ExecuteTime": {
     "end_time": "2020-05-07T10:26:16.295399Z",
     "start_time": "2020-05-07T10:26:14.866880Z"
    }
   },
   "outputs": [
    {
     "data": {
      "text/plain": [
       "[0.14370379200045136,\n",
       " 0.14248311899791588,\n",
       " 0.14132028800304397,\n",
       " 0.14128127000003587,\n",
       " 0.14086160399892833,\n",
       " 0.14945995499874698,\n",
       " 0.1398018410000077,\n",
       " 0.1490410080004949,\n",
       " 0.13849404899883666,\n",
       " 0.13800102999812225]"
      ]
     },
     "execution_count": 41,
     "metadata": {},
     "output_type": "execute_result"
    }
   ],
   "source": [
    "timeit.repeat(stmt='np.sum(np.random.random(1000))', setup='import numpy as np',\n",
    "              repeat=10, number=10000)"
   ]
  },
  {
   "cell_type": "markdown",
   "metadata": {
    "heading_collapsed": true,
    "slideshow": {
     "slide_type": "slide"
    }
   },
   "source": [
    "## Weitere Quellen\n",
    "* https://www.python.org/dev/peps/pep-0008/ PEP 8 - Der Stil-Codex für Python Code\n",
    "* https://pymotw.com/3/ - Ausführlicher Rundgang durch die Standard Python Bibliothek mit Beispielen\n",
    "* https://youtu.be/UANN2Eu6ZnM - Vorträge von Raymond Hettinger (Python Core Entwickler)"
   ]
  },
  {
   "cell_type": "markdown",
   "metadata": {},
   "source": [
    "## Weitere Libraries\n",
    "* https://requests.readthedocs.io/en/master/ Requests\n",
    "* https://www.crummy.com/software/BeautifulSoup/ BeautifulSoup\n",
    "* https://scikit-learn.org/stable/ scikit-learn\n",
    "* https://www.sympy.org/en/index.html sympy\n",
    "* https://www.pygame.org/news Pygame"
   ]
  },
  {
   "cell_type": "markdown",
   "metadata": {
    "slideshow": {
     "slide_type": "subslide"
    }
   },
   "source": [
    "## Jupyter Extensions\n",
    "* https://rise.readthedocs.io/en/stable/ - Instant Präsentation aus einem Jupyter Notebook\n",
    "### https://github.com/ipython-contrib/jupyter_contrib_nbextensions\n",
    "* Table of Contents\n",
    "* Collapsible headings\n",
    "* Code folding\n",
    "* Autopep8\n",
    "* ExecuteTime"
   ]
  },
  {
   "cell_type": "code",
   "execution_count": null,
   "metadata": {
    "ExecuteTime": {
     "end_time": "2020-05-07T10:25:16.537235Z",
     "start_time": "2020-05-07T10:24:53.198Z"
    }
   },
   "outputs": [],
   "source": [
    "a = 1"
   ]
  }
 ],
 "metadata": {
  "celltoolbar": "Slideshow",
  "kernelspec": {
   "display_name": "Python 3",
   "language": "python",
   "name": "python3"
  },
  "language_info": {
   "codemirror_mode": {
    "name": "ipython",
    "version": 3
   },
   "file_extension": ".py",
   "mimetype": "text/x-python",
   "name": "python",
   "nbconvert_exporter": "python",
   "pygments_lexer": "ipython3",
   "version": "3.8.2"
  },
  "toc": {
   "base_numbering": 1,
   "nav_menu": {},
   "number_sections": true,
   "sideBar": true,
   "skip_h1_title": false,
   "title_cell": "Table of Contents",
   "title_sidebar": "Contents",
   "toc_cell": false,
   "toc_position": {
    "height": "calc(100% - 180px)",
    "left": "10px",
    "top": "150px",
    "width": "362px"
   },
   "toc_section_display": true,
   "toc_window_display": true
  }
 },
 "nbformat": 4,
 "nbformat_minor": 4
}
